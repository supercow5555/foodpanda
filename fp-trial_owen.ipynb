{
 "cells": [
  {
   "cell_type": "code",
   "execution_count": 4,
   "metadata": {},
   "outputs": [],
   "source": [
    "import pandas as pd"
   ]
  },
  {
   "cell_type": "code",
   "execution_count": 5,
   "metadata": {},
   "outputs": [],
   "source": [
    "df=pd.read_csv(\"data/item_list.csv\",index_col=0)"
   ]
  },
  {
   "cell_type": "code",
   "execution_count": 6,
   "metadata": {},
   "outputs": [],
   "source": [
    "##df"
   ]
  },
  {
   "cell_type": "code",
   "execution_count": 7,
   "metadata": {},
   "outputs": [],
   "source": [
    "#Changing primary cuisine to a list\n",
    "pri_cuisine=df[\"primary_cuisine\"]\n",
    "pri_cuisine=pri_cuisine.dropna()\n",
    "pri_cuisine=pri_cuisine.tolist()"
   ]
  },
  {
   "cell_type": "code",
   "execution_count": 33,
   "metadata": {},
   "outputs": [],
   "source": [
    "#Create a list on primary cuisine that only unique value are present\n",
    "list_pc= []\n",
    "for x in pri_cuisine:\n",
    "    if x not in list_pc:\n",
    "        list_pc.append(x)\n",
    "##list_pc"
   ]
  },
  {
   "cell_type": "code",
   "execution_count": 9,
   "metadata": {},
   "outputs": [],
   "source": [
    "cuisines_init=df[\"cuisines\"]\n",
    "cuisines_init=cuisines_init.dropna()\n",
    "cuisines_init=cuisines_init.tolist()\n",
    "##cuisines_init"
   ]
  },
  {
   "cell_type": "code",
   "execution_count": 30,
   "metadata": {},
   "outputs": [],
   "source": [
    "list_c=[]\n",
    "for x in cuisines_init:\n",
    "    comma_count=x.count(\",\")\n",
    "    for y in range(comma_count):\n",
    "        comma_pos=x.find(\",\")\n",
    "        temp=x[0:comma_pos]\n",
    "        list_c.append(temp)\n",
    "        x=x[comma_pos+1:]\n",
    "##list_c"
   ]
  },
  {
   "cell_type": "code",
   "execution_count": 31,
   "metadata": {},
   "outputs": [],
   "source": [
    "#Create a list on primary cuisine that only unique value are present\n",
    "ulist_c= []\n",
    "for x in list_c:\n",
    "    if x not in ulist_c:\n",
    "        ulist_c.append(x)\n",
    "##ulist_c"
   ]
  },
  {
   "cell_type": "code",
   "execution_count": 34,
   "metadata": {},
   "outputs": [
    {
     "data": {
      "text/plain": [
       "['Middle Eastern',\n",
       " 'Malaysian',\n",
       " 'Singaporean',\n",
       " 'German',\n",
       " 'French',\n",
       " 'Indonesian',\n",
       " 'Mexican',\n",
       " 'Asian',\n",
       " 'Fast Food',\n",
       " 'Dessert',\n",
       " 'Healthy',\n",
       " 'Spanish',\n",
       " 'Mediterranean',\n",
       " 'Beijing',\n",
       " 'European',\n",
       " 'British',\n",
       " 'Drinks',\n",
       " 'Pizza',\n",
       " 'Burgers',\n",
       " 'Sandwich',\n",
       " 'South American',\n",
       " 'Halal',\n",
       " 'Noodles',\n",
       " 'Cakes & Bakery',\n",
       " 'Thai',\n",
       " 'Indian',\n",
       " 'Korean',\n",
       " 'Chinese',\n",
       " 'Italian',\n",
       " 'Sichuan',\n",
       " 'Western',\n",
       " 'American',\n",
       " 'Japanese',\n",
       " 'Cantonese',\n",
       " 'Chiu Chow',\n",
       " 'Hong Kong',\n",
       " 'Taiwanese',\n",
       " 'Vietnamese',\n",
       " 'Shanghainese',\n",
       " 'International',\n",
       " 'Southeast Asian',\n",
       " 'Filipino',\n",
       " 'South East Asian',\n",
       " 'Pasta',\n",
       " 'Kebab',\n",
       " 'Tea & Coffee',\n",
       " 'Seafood',\n",
       " 'Wraps and Rolls',\n",
       " 'Dumpling',\n",
       " 'Steak',\n",
       " 'Curry',\n",
       " 'Rice Bowl',\n",
       " 'Dim Sum ',\n",
       " 'Alcohol',\n",
       " 'Bubble Tea',\n",
       " 'Fried Chicken',\n",
       " 'Snacks',\n",
       " 'Rice Noodles',\n",
       " 'Udon',\n",
       " 'Soups',\n",
       " 'Vegetarian',\n",
       " 'Donburi',\n",
       " 'Salad',\n",
       " 'Cart Noodles',\n",
       " 'Congee',\n",
       " 'Street Snacks',\n",
       " 'Sushi',\n",
       " 'Poke Bowl ',\n",
       " 'Ice Cream',\n",
       " 'Ramen',\n",
       " 'Grain Bowl']"
      ]
     },
     "execution_count": 34,
     "metadata": {},
     "output_type": "execute_result"
    }
   ],
   "source": [
    "list_c_pc=list_pc+ulist_c\n",
    "ulist_c_pc= []\n",
    "for x in list_c_pc:\n",
    "    if x not in ulist_c_pc:\n",
    "        ulist_c_pc.append(x)\n",
    "ulist_c_pc"
   ]
  },
  {
   "cell_type": "code",
   "execution_count": null,
   "metadata": {},
   "outputs": [],
   "source": []
  }
 ],
 "metadata": {
  "kernelspec": {
   "display_name": "Python 3",
   "language": "python",
   "name": "python3"
  },
  "language_info": {
   "codemirror_mode": {
    "name": "ipython",
    "version": 3
   },
   "file_extension": ".py",
   "mimetype": "text/x-python",
   "name": "python",
   "nbconvert_exporter": "python",
   "pygments_lexer": "ipython3",
   "version": "3.8.8"
  }
 },
 "nbformat": 4,
 "nbformat_minor": 4
}
